{
 "cells": [
  {
   "cell_type": "code",
   "execution_count": 1,
   "metadata": {},
   "outputs": [],
   "source": [
    "from dataclasses import asdict\n",
    "import json\n",
    "from dotenv import load_dotenv\n",
    "from scripts.OpenAIService import OpenAIService\n",
    "import numpy as np\n",
    "from classes import Content, DialOption, Segment, SegmentType, Output, OutputField, GoalsOutput\n",
    "from utils import generate_unique_id\n",
    "\n",
    "load_dotenv()\n",
    "service = OpenAIService()"
   ]
  },
  {
   "cell_type": "code",
   "execution_count": 2,
   "metadata": {},
   "outputs": [],
   "source": [
    "def generateSegment(max_width, max_depth, parent_reference=None) -> Segment:\n",
    "    add_depth: bool = np.random.choice([True])\n",
    "    if max_depth <= 0 or not add_depth:\n",
    "        return Segment(type=SegmentType.holdTheLine, contents=[Content(text=f\"{parent_reference}:0\", fileID=generate_unique_id())], id=generate_unique_id())\n",
    "    else:\n",
    "        return generateDialOptions(max_width, max_depth, parent_reference)\n",
    "\n",
    "def generateDialOptions(max_width, max_depth, parent_reference=None) -> Segment:\n",
    "    width = np.random.randint(2, max_width + 1)\n",
    "    dial_options = []\n",
    "    for i in range(1, width+1):\n",
    "        reference = f\"{parent_reference}:{i}\"\n",
    "        dialOption = DialOption(text=reference, index=i, nextSegment=generateSegment(max_width, max_depth - 1, reference), fileID=generate_unique_id())\n",
    "        dial_options.append(dialOption)\n",
    "        \n",
    "    return Segment(type=SegmentType.dialOptions, contents=dial_options, id=generate_unique_id())\n",
    "\n",
    "def generateCallTree(max_width, max_depth) -> Segment:\n",
    "    root_reference = \"ROOT\"\n",
    "    segment = Segment(type=SegmentType.welcome, contents=[Content(text=root_reference, fileID=generate_unique_id())], nextSegment=generateDialOptions(max_width, max_depth, root_reference), id=generate_unique_id())\n",
    "    return segment\n",
    "    \n",
    "call_tree = generateCallTree(2, 2)\n",
    "# save generated call tree\n",
    "with open(\"callTree.json\", \"w\") as f:\n",
    "    json.dump(asdict(call_tree), f, indent=4)"
   ]
  },
  {
   "cell_type": "code",
   "execution_count": 39,
   "metadata": {},
   "outputs": [
    {
     "name": "stdout",
     "output_type": "stream",
     "text": [
      "\n",
      "You are a helpful and precise assistant.\n",
      "Given a description of a company. Fill out the marked text fields of a fictive IVR call menu.\n",
      "I will use your output directly to generate fictive IVR call audio with TTS, \n",
      "therefore, please make sure that the text is speakable.\n",
      "\n",
      "Please be creative based on the company description and make sure that the text is speakable and makes sense in relation to the fictive company.\n",
      "If it is a dial option, make sure to mention that they should press '[INDEX]' to choose that menu.\n",
      "I will replace it with the correct index in the output, so you are only allowed to write '[INDEX]' in the text.\n",
      "A dial option can never be an offer to call back, returning to the menu or visit a website, it should always be a menu option leading to a new segment.\n",
      "\n",
      "I have already created a json structure containing the marked text fields that you should fill out in the output. \n",
      "This is marked with 'ROOT:<reference_index>':\n",
      "Segment(type=<SegmentType.welcome: 'welcome'>, contents=[Content(text='ROOT', fileID='d84ad533d78145bc851309fd67fb8b81')], nextSegment=Segment(type=<SegmentType.dialOptions: 'dialOptions'>, contents=[DialOption(text='ROOT:1', fileID='5e22d5ab3bf7483c8dbb3cd4aa996c4b', index=1, nextSegment=Segment(type=<SegmentType.dialOptions: 'dialOptions'>, contents=[DialOption(text='ROOT:1:1', fileID='084fb09a32424756a651e6b1c5e11a58', index=1, nextSegment=Segment(type=<SegmentType.holdTheLine: 'holdTheLine'>, contents=[Content(text='ROOT:1:1:0', fileID='69444342a4644b449983de381f485632')], nextSegment=None, id='5289468b8cdd461facb5dbdf862352b2')), DialOption(text='ROOT:1:2', fileID='07e4ab30c45c4529a389231895fc0b12', index=2, nextSegment=Segment(type=<SegmentType.holdTheLine: 'holdTheLine'>, contents=[Content(text='ROOT:1:2:0', fileID='14afd7decc5e437ab5a85d4830a657ff')], nextSegment=None, id='0a2a539ea3294ba095fe87f88519f2c3'))], nextSegment=None, id='3fb1a20b7ef745828dd5c7ff179c50b8')), DialOption(text='ROOT:2', fileID='c56c2cc2e101423a83f3ac1cfa4c2719', index=2, nextSegment=Segment(type=<SegmentType.dialOptions: 'dialOptions'>, contents=[DialOption(text='ROOT:2:1', fileID='f62fac9cd6e34ccd9d156af7e3115694', index=1, nextSegment=Segment(type=<SegmentType.holdTheLine: 'holdTheLine'>, contents=[Content(text='ROOT:2:1:0', fileID='70745f8959174bad87594fae17bddbb2')], nextSegment=None, id='8f6acc96b70b427ab595472b0f65b32c')), DialOption(text='ROOT:2:2', fileID='99448beeb6dc438886e1a2adffb37272', index=2, nextSegment=Segment(type=<SegmentType.holdTheLine: 'holdTheLine'>, contents=[Content(text='ROOT:2:2:0', fileID='73a3194aa38942d1a499385f8ce39c03')], nextSegment=None, id='2de25856115341348f929e8ef8cdebf7'))], nextSegment=None, id='0d0f56c328aa433d87811e6805528c4b'))], nextSegment=None, id='10c63fb9fda840a480fad7551208341c'), id='f57ca7a2fb0544d5af791fdb3000dd8f')\n",
      "\n",
      "The welcome intro should be one sentence only!\n",
      "The number of references in the output should match the number of references in the input.\n",
      "It's very important that you fill out all the references in the output!!!\n",
      "\n",
      "\n",
      "Here is the company information that the output should be specific to:\n",
      "--------\n",
      "Name: CoInspect\n",
      "Location: San Francisco\n",
      "Tags: Food\n",
      "Description: CoInspect App is an all-in-one solution that offers food safety compliance, brand standard audits, supply chain audits easily. Request a FREE Demo.\n",
      "--------\n",
      "\n"
     ]
    }
   ],
   "source": [
    "EXAMPLE = Segment(\n",
    "    type=SegmentType.welcome,\n",
    "    contents=[Content(text=\"REF:0\", fileID=generate_unique_id())],\n",
    "    nextSegment=Segment(\n",
    "        type=SegmentType.dialOptions,\n",
    "        contents=[\n",
    "            DialOption(index=1, text=\"REF:1\", fileID=generate_unique_id(),  nextSegment=Segment(\n",
    "                type=SegmentType.info, contents=[Content(text=\"REF:2\", fileID=generate_unique_id())], nextSegment=Segment(\n",
    "                    type=SegmentType.dialOptions, contents=[\n",
    "                        DialOption(text=\"REF:3\", fileID=generate_unique_id(), index=1, nextSegment=Segment(\n",
    "                            type=SegmentType.holdTheLine, contents=[Content(text=\"REF:4\", fileID=generate_unique_id())]\n",
    "                        ) ),\n",
    "                        DialOption(text=\"REF:5\", fileID=generate_unique_id(), index=2, nextSegment=Segment(\n",
    "                            type=SegmentType.holdTheLine, contents=[Content(text=\"REF:6\", fileID=generate_unique_id())]\n",
    "                        ) ),\n",
    "                    ]\n",
    "                )\n",
    "                )),\n",
    "            DialOption(index=2, text=\"REF:7\", fileID=generate_unique_id(), nextSegment=Segment(\n",
    "                type=SegmentType.holdTheLine, contents=[Content(text=\"REF:8\", fileID=generate_unique_id())]\n",
    "            )),\n",
    "            DialOption(index=3, text=\"REF:9\", fileID=generate_unique_id(), nextSegment=Segment(\n",
    "                type=SegmentType.holdTheLine, contents=[Content(text=\"REF:10\", fileID=generate_unique_id())]\n",
    "            ))\n",
    "            \n",
    "        ]\n",
    "    )\n",
    ")\n",
    "\n",
    "OUTPUT_EXAMPLE = Output(\n",
    "    fields=[\n",
    "        OutputField(reference=\"REF:42\", text=\"Welcome to Company X customer support.\"),\n",
    "        OutputField(reference=\"REF:42\", text=\"To speak to a representative, press [index].\"),\n",
    "        OutputField(reference=\"REF:42\", text=\"Thank you for calling the sales.com, goodbye.\"),\n",
    "        OutputField(reference=\"REF:42\", text=\"Did you know that you can also visit our website at www.companyx.com for more information about y?\"),\n",
    "    ]\n",
    ")\n",
    "\n",
    "# COMPANY_DESCRIPTION = \"A tech support company specializing in computer and software troubleshooting for small businesses. Callers can navigate the IVR to reach hardware specialists, network engineers, or cybersecurity experts.\"\n",
    "COMPANY_NAME = \"CoInspect\"\n",
    "COMPANY_LOCATION = \"San Francisco\"\n",
    "COMPANY_TAGS = \"Food\"\n",
    "COMPANY_DESCRIPTION = \"CoInspect App is an all-in-one solution that offers food safety compliance, brand standard audits, supply chain audits easily. Request a FREE Demo.\"\n",
    "\n",
    "FULL_COMPANY_DESCRIPTION = '''\n",
    "Name: {name}\n",
    "Location: {location}\n",
    "Tags: {tags}\n",
    "Description: {description}'''.format(\n",
    "    name=COMPANY_NAME,\n",
    "    location=COMPANY_LOCATION,\n",
    "    tags=COMPANY_TAGS,\n",
    "    description=COMPANY_DESCRIPTION\n",
    ")\n",
    "\n",
    "SYSTEM_PROMPT = '''\n",
    "You are a helpful and precise assistant.\n",
    "Given a description of a company. Fill out the marked text fields of a fictive IVR call menu.\n",
    "I will use your output directly to generate fictive IVR call audio with TTS, \n",
    "therefore, please make sure that the text is speakable.\n",
    "\n",
    "Please be creative based on the company description and make sure that the text is speakable and makes sense in relation to the fictive company.\n",
    "If it is a dial option, make sure to mention that they should press '[INDEX]' to choose that menu.\n",
    "I will replace it with the correct index in the output, so you are only allowed to write '[INDEX]' in the text.\n",
    "A dial option can never be an offer to call back, returning to the menu or visit a website, it should always be a menu option leading to a new segment.\n",
    "\n",
    "I have already created a json structure containing the marked text fields that you should fill out in the output. \n",
    "This is marked with 'ROOT:<reference_index>':\n",
    "{call_tree}\n",
    "\n",
    "The welcome intro should be one sentence only!\n",
    "The number of references in the output should match the number of references in the input.\n",
    "It's very important that you fill out all the references in the output!!!\n",
    "'''.format(call_tree=call_tree)\n",
    "\n",
    "USER_PROMPT = '''\n",
    "Here is the company information that the output should be specific to:\n",
    "--------{company_description}\n",
    "--------\n",
    "'''.format(company_description=FULL_COMPANY_DESCRIPTION)\n",
    "print(SYSTEM_PROMPT)\n",
    "\n",
    "print(USER_PROMPT)"
   ]
  },
  {
   "cell_type": "code",
   "execution_count": 40,
   "metadata": {},
   "outputs": [
    {
     "name": "stdout",
     "output_type": "stream",
     "text": [
      "Tokens used: 2775\n",
      "{\"fields\":[{\"reference\":\"ROOT\",\"text\":\"Welcome to CoInspect, your all-in-one food safety compliance, brand standards, and supply chain audit solution in San Francisco.\"},{\"reference\":\"ROOT:1\",\"text\":\"For a free demo of CoInspect’s food safety and audit features, press [INDEX].\"},{\"reference\":\"ROOT:2\",\"text\":\"For customer support or general inquiries, press [INDEX].\"},{\"reference\":\"ROOT:1:1\",\"text\":\"To schedule a live demo with our specialists, press [INDEX].\"},{\"reference\":\"ROOT:1:2\",\"text\":\"To sign up for a free self-service trial, press [INDEX].\"},{\"reference\":\"ROOT:1:1:0\",\"text\":\"Please hold while we connect you to schedule your live demo.\"},{\"reference\":\"ROOT:1:2:0\",\"text\":\"Please hold while we connect you to set up your self-service trial.\"},{\"reference\":\"ROOT:2:1\",\"text\":\"For technical assistance with the CoInspect platform, press [INDEX].\"},{\"reference\":\"ROOT:2:2\",\"text\":\"For billing or account questions, press [INDEX].\"},{\"reference\":\"ROOT:2:1:0\",\"text\":\"One moment please while we connect you to technical support.\"},{\"reference\":\"ROOT:2:2:0\",\"text\":\"Please hold while we transfer you to our billing department.\"}]}\n"
     ]
    },
    {
     "name": "stderr",
     "output_type": "stream",
     "text": [
      "/var/folders/wq/k5hy5l4j6pbd_js2dbk6vhfc0000gn/T/ipykernel_36095/496640878.py:2: PydanticDeprecatedSince20: The `json` method is deprecated; use `model_dump_json` instead. Deprecated in Pydantic V2.0 to be removed in V3.0. See Pydantic V2 Migration Guide at https://errors.pydantic.dev/2.11/migration/\n",
      "  print(response.json())\n"
     ]
    }
   ],
   "source": [
    "response: Output = service.parse_information(SYSTEM_PROMPT, USER_PROMPT, Output)\n",
    "print(response.json())\n",
    "\n",
    "with open(\"output2.json\", \"w\") as f:\n",
    "    json.dump(response.model_dump(), f, indent=4)"
   ]
  },
  {
   "cell_type": "code",
   "execution_count": null,
   "metadata": {},
   "outputs": [
    {
     "name": "stdout",
     "output_type": "stream",
     "text": [
      "{'ROOT': 'Thank you for calling CoInspect in San Francisco, your partner in food safety compliance and audit solutions.', 'ROOT:1': 'For sales, pricing, and to request a free demo, press [INDEX].', 'ROOT:1:1': 'To request a free CoInspect demo and explore our all-in-one food safety, brand standards, and supply chain audit solution, press [INDEX].', 'ROOT:1:1:0': 'Please hold while we connect you to our demo specialist.', 'ROOT:1:2': 'To speak with a sales representative about pricing and package options, press [INDEX].', 'ROOT:1:2:0': 'Please hold while we connect you to a sales representative.', 'ROOT:2': 'For technical support, training, or billing inquiries, press [INDEX].', 'ROOT:2:1': 'For technical support with the CoInspect app, press [INDEX].', 'ROOT:2:1:0': 'Please hold while we connect you to technical support.', 'ROOT:2:2': 'For account or billing assistance, press [INDEX].', 'ROOT:2:2:0': 'Please hold while we connect you to our billing team.'}\n",
      "Segment(type=<SegmentType.welcome: 'welcome'>, contents=[Content(text='Thank you for calling CoInspect in San Francisco, your partner in food safety compliance and audit solutions.', fileID='d84ad533d78145bc851309fd67fb8b81')], nextSegment=Segment(type=<SegmentType.dialOptions: 'dialOptions'>, contents=[DialOption(text='For sales, pricing, and to request a free demo, press 1.', fileID='5e22d5ab3bf7483c8dbb3cd4aa996c4b', index=1, nextSegment=Segment(type=<SegmentType.dialOptions: 'dialOptions'>, contents=[DialOption(text='To request a free CoInspect demo and explore our all-in-one food safety, brand standards, and supply chain audit solution, press 1.', fileID='084fb09a32424756a651e6b1c5e11a58', index=1, nextSegment=Segment(type=<SegmentType.holdTheLine: 'holdTheLine'>, contents=[Content(text='Please hold while we connect you to our demo specialist.', fileID='69444342a4644b449983de381f485632')], nextSegment=None, id='5289468b8cdd461facb5dbdf862352b2')), DialOption(text='To speak with a sales representative about pricing and package options, press 2.', fileID='07e4ab30c45c4529a389231895fc0b12', index=2, nextSegment=Segment(type=<SegmentType.holdTheLine: 'holdTheLine'>, contents=[Content(text='Please hold while we connect you to a sales representative.', fileID='14afd7decc5e437ab5a85d4830a657ff')], nextSegment=None, id='0a2a539ea3294ba095fe87f88519f2c3'))], nextSegment=None, id='3fb1a20b7ef745828dd5c7ff179c50b8')), DialOption(text='For technical support, training, or billing inquiries, press 2.', fileID='c56c2cc2e101423a83f3ac1cfa4c2719', index=2, nextSegment=Segment(type=<SegmentType.dialOptions: 'dialOptions'>, contents=[DialOption(text='For technical support with the CoInspect app, press 1.', fileID='f62fac9cd6e34ccd9d156af7e3115694', index=1, nextSegment=Segment(type=<SegmentType.holdTheLine: 'holdTheLine'>, contents=[Content(text='Please hold while we connect you to technical support.', fileID='70745f8959174bad87594fae17bddbb2')], nextSegment=None, id='8f6acc96b70b427ab595472b0f65b32c')), DialOption(text='For account or billing assistance, press 2.', fileID='99448beeb6dc438886e1a2adffb37272', index=2, nextSegment=Segment(type=<SegmentType.holdTheLine: 'holdTheLine'>, contents=[Content(text='Please hold while we connect you to our billing team.', fileID='73a3194aa38942d1a499385f8ce39c03')], nextSegment=None, id='2de25856115341348f929e8ef8cdebf7'))], nextSegment=None, id='0d0f56c328aa433d87811e6805528c4b'))], nextSegment=None, id='10c63fb9fda840a480fad7551208341c'), id='f57ca7a2fb0544d5af791fdb3000dd8f')\n"
     ]
    }
   ],
   "source": [
    "reference_texts = {}\n",
    "for field in response.fields:\n",
    "    reference_texts[field.reference] = field.text\n",
    "print(reference_texts)\n",
    "\n",
    "def get_reference_text(reference):\n",
    "    result = reference_texts.get(reference)\n",
    "    assert result is not None, f\"Reference {reference} not found in output\"\n",
    "    return result\n",
    "\n",
    "def replace_references(segment: Segment) -> Segment:\n",
    "    new_contents = []\n",
    "    for content in segment.contents:\n",
    "        content_text:str = get_reference_text(content.text)\n",
    "        if hasattr(content, \"index\"):\n",
    "            content_text = content_text.replace(\"[INDEX]\", str(content.index))\n",
    "            new_contents.append(DialOption(index=content.index, text=content_text, nextSegment=replace_references(content.nextSegment), fileID=content.fileID))\n",
    "        else:\n",
    "            new_contents.append(Content(text=content_text, fileID=content.fileID))\n",
    "            \n",
    "    next_segment = None\n",
    "    if segment.nextSegment is not None:\n",
    "        next_segment = replace_references(segment.nextSegment)\n",
    "        \n",
    "    new_segment: Segment = Segment(type=segment.type, contents=new_contents, nextSegment=next_segment, id=segment.id)\n",
    "    return new_segment\n",
    "\n",
    "call_tree_replaced = replace_references(call_tree)\n",
    "print(call_tree_replaced)\n",
    "\n",
    "with open(\"callTreeReplaced.json\", \"w\") as f:\n",
    "    json.dump(asdict(call_tree_replaced), f, indent=4)"
   ]
  },
  {
   "cell_type": "code",
   "execution_count": 6,
   "metadata": {},
   "outputs": [
    {
     "name": "stdout",
     "output_type": "stream",
     "text": [
      "{'5289468b8cdd461facb5dbdf862352b2': ['Welcome to 23andMe South Bay, your gateway to personalized ancestry, health, and trait reports.', 'For information about your health and trait reports, press 1.', 'To learn about your health predisposition reports, press 1.', 'Please hold while we connect you with a health reports specialist.'], '0a2a539ea3294ba095fe87f88519f2c3': ['Welcome to 23andMe South Bay, your gateway to personalized ancestry, health, and trait reports.', 'For information about your health and trait reports, press 1.', 'For details on your carrier status reports, press 2.', 'Please hold while we connect you with a carrier status specialist.'], '8f6acc96b70b427ab595472b0f65b32c': ['Welcome to 23andMe South Bay, your gateway to personalized ancestry, health, and trait reports.', 'For ancestry and family history services, press 2.', 'To explore your ancestry composition report, press 1.', 'Please hold while we connect you with an ancestry specialist.'], '2de25856115341348f929e8ef8cdebf7': ['Welcome to 23andMe South Bay, your gateway to personalized ancestry, health, and trait reports.', 'For ancestry and family history services, press 2.', 'For the DNA relatives and family tree feature, press 2.', 'Please hold while we connect you with our family history team.']}\n"
     ]
    }
   ],
   "source": [
    "# get unique routes\n",
    "def get_unique_segment_sequences(segment: Segment) -> list[list[str]]:\n",
    "    result = []\n",
    "    \n",
    "    if segment.type == SegmentType.holdTheLine:\n",
    "        return [[content.text for content in segment.contents] + [segment.id]]\n",
    "    elif segment.type == SegmentType.dialOptions:\n",
    "        for content in segment.contents:\n",
    "            sub_sequences = get_unique_segment_sequences(content.nextSegment)\n",
    "            for sub_sequence in sub_sequences:\n",
    "                result.append([content.text] + sub_sequence)\n",
    "    elif segment.type == SegmentType.welcome:\n",
    "        sub_sequences = get_unique_segment_sequences(segment.nextSegment)\n",
    "        for sub_sequence in sub_sequences:\n",
    "            result.append([content.text for content in segment.contents] + sub_sequence)\n",
    "        \n",
    "        \n",
    "    return result\n",
    "    \n",
    "unique_sequences = get_unique_segment_sequences(call_tree_replaced)\n",
    "unique_sequences_map = {}\n",
    "for sequence in unique_sequences:\n",
    "    unique_sequences_map[sequence[-1]] = sequence[:-1]\n",
    "        \n",
    "print(unique_sequences_map)"
   ]
  },
  {
   "cell_type": "code",
   "execution_count": null,
   "metadata": {},
   "outputs": [
    {
     "name": "stdout",
     "output_type": "stream",
     "text": [
      "\n",
      "I'm training an LLM agent to navigate a fictive IVR call menu. However, this specific \"LLM agent\" is not you.\n",
      "You are a helpful and precise assistant that helps me generate fake user goals that the \"LLM agent\" should base its navigation on.\n",
      "\n",
      "A real scenario use of the service I'm building will be as follows:\n",
      "1. The user picks up a phone and opens the Hold The Line app.\n",
      "2. The users dials a number. A chat box opens.\n",
      "3. The \"LLM agent\" ask the user what they need help with.\n",
      "4. The user respond with their intended goal.\n",
      "\n",
      "Your job is, based on the provided persona description, to generate realistic user goals that could be used in this scenario.\n",
      "The input sequences corresponds to the relevant information that the \"LLM agent\" would use to navigate based on the goal that you generate.\n",
      "\n",
      "Rules:\n",
      "- The goals should be specific to the unique segment sequences.\n",
      "- Two goals should never overlap. The goals should be as orthogonal to each other as possible.\n",
      "- The goals should always be from the perspective of the user of the Hold The Line app. Short, simple and realistic.\n",
      "- The users goal formulation should be based on the persona description.\n",
      "- Always generate a unique goal for each unique segment sequence in the input.\n",
      "- Try to avoid using the exact formulations of the input in the goals. However, this might not always be possible.\n",
      "- The output should be a list of unique goals where each goal corresponds to the unique segment sequence in the input.\n",
      "\n",
      "\n",
      "Here is the persona description of the user that you should imitate:\n",
      "\"A dyslexic mother of two young children.\"\n",
      "\n",
      "Here is the list of unique sequences that you should generate goals for:\n",
      "[['Welcome to 23andMe South Bay, your gateway to personalized ancestry, health, and trait reports.', 'For information about your health and trait reports, press 1.', 'To learn about your health predisposition reports, press 1.', 'Please hold while we connect you with a health reports specialist.', '5289468b8cdd461facb5dbdf862352b2'], ['Welcome to 23andMe South Bay, your gateway to personalized ancestry, health, and trait reports.', 'For information about your health and trait reports, press 1.', 'For details on your carrier status reports, press 2.', 'Please hold while we connect you with a carrier status specialist.', '0a2a539ea3294ba095fe87f88519f2c3'], ['Welcome to 23andMe South Bay, your gateway to personalized ancestry, health, and trait reports.', 'For ancestry and family history services, press 2.', 'To explore your ancestry composition report, press 1.', 'Please hold while we connect you with an ancestry specialist.', '8f6acc96b70b427ab595472b0f65b32c'], ['Welcome to 23andMe South Bay, your gateway to personalized ancestry, health, and trait reports.', 'For ancestry and family history services, press 2.', 'For the DNA relatives and family tree feature, press 2.', 'Please hold while we connect you with our family history team.', '2de25856115341348f929e8ef8cdebf7']]\n",
      "\n"
     ]
    }
   ],
   "source": [
    "PERSONAS = [\n",
    "    \"A busy professional who values efficiency and quick resolutions.\",\n",
    "    \"A tech-savvy individual who likes to use technical terms.\",\n",
    "    \"A dyslexic mother of two young children.\",\n",
    "    \"An elderly person who may need extra assistance.\",\n",
    "    \"A first-time caller unfamiliar with the company's services.\",\n",
    "    \"A customer with a specific complaint or issue.\",\n",
    "    \"An ex-military veteran seeking support.\",\n",
    "    \"A well-formulated student of physics.\",\n",
    "    \"A small business owner with limited funds.\",\n",
    "    \"A refugee from Ukraine who speaks English as a second language.\"\n",
    "]\n",
    "\n",
    "GOAL_PROMPT = '''\n",
    "I'm training an LLM agent to navigate a fictive IVR call menu. However, this specific \"LLM agent\" is not you.\n",
    "You are a helpful and precise assistant that helps me generate fake user goals that the \"LLM agent\" should base its navigation on.\n",
    "\n",
    "A real scenario use of the service I'm building will be as follows:\n",
    "1. The user picks up a phone and opens the Hold The Line app.\n",
    "2. The users dials a number. A chat box opens.\n",
    "3. The \"LLM agent\" ask the user what they need help with.\n",
    "4. The user respond with their intended goal.\n",
    "\n",
    "Your job is, based on the provided persona description, to generate realistic user goals that could be used in this scenario.\n",
    "The input sequences corresponds to the relevant information that the \"LLM agent\" would use to navigate based on the goal that you generate.\n",
    "\n",
    "Rules:\n",
    "- The goals should be specific to the unique segment sequences.\n",
    "- Two goals should never overlap. The goals should be as orthogonal to each other as possible.\n",
    "- The goals should always be from the perspective of the user of the Hold The Line app. Short, simple and realistic.\n",
    "- The users goal formulation should be based on the persona description.\n",
    "- Always generate a unique goal for each unique segment sequence in the input.\n",
    "- Try to avoid using the exact formulations of the input in the goals. However, this might not always be possible.\n",
    "- The output should be a list of unique goals where each goal corresponds to the unique segment sequence in the input.\n",
    "'''\n",
    "\n",
    "GOAL_USER_PROMPT = '''\n",
    "Here is the persona description of the user that you should imitate:\n",
    "\"{persona}\"\n",
    "\n",
    "Here is the list of unique sequences that you should generate goals for:\n",
    "{unique_sequences}\n",
    "'''.format(persona=np.random.choice(PERSONAS), unique_sequences=unique_sequences)\n",
    "\n",
    "print(GOAL_PROMPT)\n",
    "print(GOAL_USER_PROMPT)"
   ]
  },
  {
   "cell_type": "code",
   "execution_count": 33,
   "metadata": {},
   "outputs": [
    {
     "name": "stdout",
     "output_type": "stream",
     "text": [
      "Tokens used: 1218\n",
      "{\"goals\":[\"I have questions about my genetic health risk report and want to discuss my predisposition to certain conditions.\",\"I’d like to review my carrier screening results to see if I’m a carrier for any inherited disorders.\",\"I want a detailed breakdown of my ancestry composition by region.\",\"I’m interested in using the DNA relatives feature to connect with genetic matches and build my family tree.\"]}\n"
     ]
    },
    {
     "name": "stderr",
     "output_type": "stream",
     "text": [
      "/var/folders/wq/k5hy5l4j6pbd_js2dbk6vhfc0000gn/T/ipykernel_36095/3684674894.py:2: PydanticDeprecatedSince20: The `json` method is deprecated; use `model_dump_json` instead. Deprecated in Pydantic V2.0 to be removed in V3.0. See Pydantic V2 Migration Guide at https://errors.pydantic.dev/2.11/migration/\n",
      "  print(goal_response.json())\n"
     ]
    }
   ],
   "source": [
    "goal_response: GoalsOutput = service.parse_information(GOAL_PROMPT, GOAL_USER_PROMPT, GoalsOutput)\n",
    "print(goal_response.json())\n",
    "\n",
    "# save generated goals\n",
    "with open(\"goals.json\", \"w\") as f:\n",
    "    json.dump(goal_response.model_dump(), f, indent=4)"
   ]
  },
  {
   "cell_type": "code",
   "execution_count": null,
   "metadata": {},
   "outputs": [],
   "source": []
  }
 ],
 "metadata": {
  "kernelspec": {
   "display_name": "whisper-titans-Xm6IIKMy-py3.11",
   "language": "python",
   "name": "python3"
  },
  "language_info": {
   "codemirror_mode": {
    "name": "ipython",
    "version": 3
   },
   "file_extension": ".py",
   "mimetype": "text/x-python",
   "name": "python",
   "nbconvert_exporter": "python",
   "pygments_lexer": "ipython3",
   "version": "3.11.9"
  }
 },
 "nbformat": 4,
 "nbformat_minor": 2
}
